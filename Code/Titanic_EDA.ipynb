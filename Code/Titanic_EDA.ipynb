{
 "cells": [
  {
   "cell_type": "markdown",
   "id": "81ec586c",
   "metadata": {},
   "source": [
    "# Exploratory Data Analysis \n",
    "\n",
    "Here are five hypotheses for the dataset Titanic Data Set from Kaggle(https://www.kaggle.com/c/titanic). \n",
    "\n",
    "Survival rate association by the passenger gender.\n",
    "Survival rate association by the passenger age.\n",
    "Survival rate association by the passenger class.\n",
    "Survival rate association by the passenger fare.\n",
    "Survival rate association by the passenger port of embarked."
   ]
  },
  {
   "cell_type": "markdown",
   "id": "2c51fcb9",
   "metadata": {},
   "source": [
    "**Import Libraries as pandas(pd), numpy(np), and matplotlib(plt)**"
   ]
  },
  {
   "cell_type": "code",
   "execution_count": 13,
   "id": "dcc67f4e",
   "metadata": {},
   "outputs": [],
   "source": [
    "import pandas as pd\n",
    "import numpy as np\n",
    "import matplotlib.pyplot as plt\n",
    "import seaborn as sns"
   ]
  },
  {
   "cell_type": "markdown",
   "id": "f5322f4d",
   "metadata": {},
   "source": [
    "**Read the dataset Titanic.csv**"
   ]
  },
  {
   "cell_type": "code",
   "execution_count": 14,
   "id": "e506ddd6",
   "metadata": {},
   "outputs": [],
   "source": [
    "df = pd.read_csv('Titanic.csv')"
   ]
  },
  {
   "cell_type": "markdown",
   "id": "967ed4bd",
   "metadata": {},
   "source": [
    "#### Gender, Age, Fare, Class and Port of embarked could be predictors of survival on the Titanic."
   ]
  },
  {
   "cell_type": "markdown",
   "id": "09d859c0",
   "metadata": {},
   "source": [
    "**Filtering the Titanic dataset**"
   ]
  },
  {
   "cell_type": "code",
   "execution_count": 15,
   "id": "0028a174",
   "metadata": {},
   "outputs": [
    {
     "name": "stderr",
     "output_type": "stream",
     "text": [
      "C:\\Users\\dav_c\\AppData\\Local\\Temp\\ipykernel_14344\\4054589378.py:3: SettingWithCopyWarning: \n",
      "A value is trying to be set on a copy of a slice from a DataFrame\n",
      "\n",
      "See the caveats in the documentation: https://pandas.pydata.org/pandas-docs/stable/user_guide/indexing.html#returning-a-view-versus-a-copy\n",
      "  df_ch1.dropna(inplace=True)\n"
     ]
    },
    {
     "data": {
      "text/html": [
       "<div>\n",
       "<style scoped>\n",
       "    .dataframe tbody tr th:only-of-type {\n",
       "        vertical-align: middle;\n",
       "    }\n",
       "\n",
       "    .dataframe tbody tr th {\n",
       "        vertical-align: top;\n",
       "    }\n",
       "\n",
       "    .dataframe thead th {\n",
       "        text-align: right;\n",
       "    }\n",
       "</style>\n",
       "<table border=\"1\" class=\"dataframe\">\n",
       "  <thead>\n",
       "    <tr style=\"text-align: right;\">\n",
       "      <th></th>\n",
       "      <th>Survived</th>\n",
       "      <th>Sex</th>\n",
       "      <th>Age</th>\n",
       "      <th>Pclass</th>\n",
       "      <th>Fare</th>\n",
       "      <th>Embarked</th>\n",
       "    </tr>\n",
       "  </thead>\n",
       "  <tbody>\n",
       "    <tr>\n",
       "      <th>0</th>\n",
       "      <td>0</td>\n",
       "      <td>male</td>\n",
       "      <td>22.0</td>\n",
       "      <td>3</td>\n",
       "      <td>7.2500</td>\n",
       "      <td>S</td>\n",
       "    </tr>\n",
       "    <tr>\n",
       "      <th>1</th>\n",
       "      <td>1</td>\n",
       "      <td>female</td>\n",
       "      <td>38.0</td>\n",
       "      <td>1</td>\n",
       "      <td>71.2833</td>\n",
       "      <td>C</td>\n",
       "    </tr>\n",
       "    <tr>\n",
       "      <th>2</th>\n",
       "      <td>1</td>\n",
       "      <td>female</td>\n",
       "      <td>26.0</td>\n",
       "      <td>3</td>\n",
       "      <td>7.9250</td>\n",
       "      <td>S</td>\n",
       "    </tr>\n",
       "    <tr>\n",
       "      <th>3</th>\n",
       "      <td>1</td>\n",
       "      <td>female</td>\n",
       "      <td>35.0</td>\n",
       "      <td>1</td>\n",
       "      <td>53.1000</td>\n",
       "      <td>S</td>\n",
       "    </tr>\n",
       "    <tr>\n",
       "      <th>4</th>\n",
       "      <td>0</td>\n",
       "      <td>male</td>\n",
       "      <td>35.0</td>\n",
       "      <td>3</td>\n",
       "      <td>8.0500</td>\n",
       "      <td>S</td>\n",
       "    </tr>\n",
       "    <tr>\n",
       "      <th>...</th>\n",
       "      <td>...</td>\n",
       "      <td>...</td>\n",
       "      <td>...</td>\n",
       "      <td>...</td>\n",
       "      <td>...</td>\n",
       "      <td>...</td>\n",
       "    </tr>\n",
       "    <tr>\n",
       "      <th>709</th>\n",
       "      <td>0</td>\n",
       "      <td>female</td>\n",
       "      <td>39.0</td>\n",
       "      <td>3</td>\n",
       "      <td>29.1250</td>\n",
       "      <td>Q</td>\n",
       "    </tr>\n",
       "    <tr>\n",
       "      <th>710</th>\n",
       "      <td>0</td>\n",
       "      <td>male</td>\n",
       "      <td>27.0</td>\n",
       "      <td>2</td>\n",
       "      <td>13.0000</td>\n",
       "      <td>S</td>\n",
       "    </tr>\n",
       "    <tr>\n",
       "      <th>711</th>\n",
       "      <td>1</td>\n",
       "      <td>female</td>\n",
       "      <td>19.0</td>\n",
       "      <td>1</td>\n",
       "      <td>30.0000</td>\n",
       "      <td>S</td>\n",
       "    </tr>\n",
       "    <tr>\n",
       "      <th>712</th>\n",
       "      <td>1</td>\n",
       "      <td>male</td>\n",
       "      <td>26.0</td>\n",
       "      <td>1</td>\n",
       "      <td>30.0000</td>\n",
       "      <td>C</td>\n",
       "    </tr>\n",
       "    <tr>\n",
       "      <th>713</th>\n",
       "      <td>0</td>\n",
       "      <td>male</td>\n",
       "      <td>32.0</td>\n",
       "      <td>3</td>\n",
       "      <td>7.7500</td>\n",
       "      <td>Q</td>\n",
       "    </tr>\n",
       "  </tbody>\n",
       "</table>\n",
       "<p>712 rows × 6 columns</p>\n",
       "</div>"
      ],
      "text/plain": [
       "     Survived     Sex   Age  Pclass     Fare Embarked\n",
       "0           0    male  22.0       3   7.2500        S\n",
       "1           1  female  38.0       1  71.2833        C\n",
       "2           1  female  26.0       3   7.9250        S\n",
       "3           1  female  35.0       1  53.1000        S\n",
       "4           0    male  35.0       3   8.0500        S\n",
       "..        ...     ...   ...     ...      ...      ...\n",
       "709         0  female  39.0       3  29.1250        Q\n",
       "710         0    male  27.0       2  13.0000        S\n",
       "711         1  female  19.0       1  30.0000        S\n",
       "712         1    male  26.0       1  30.0000        C\n",
       "713         0    male  32.0       3   7.7500        Q\n",
       "\n",
       "[712 rows x 6 columns]"
      ]
     },
     "execution_count": 15,
     "metadata": {},
     "output_type": "execute_result"
    }
   ],
   "source": [
    "df_ch1=df[['Survived', 'Sex', 'Age', 'Pclass', 'Fare', 'Embarked']]\n",
    "df_ch1\n",
    "df_ch1.dropna(inplace=True)\n",
    "df_chy1 = df_ch1[df_ch1['Age'] > 0]\n",
    "df_chy1"
   ]
  },
  {
   "cell_type": "markdown",
   "id": "ed14a01b",
   "metadata": {},
   "source": [
    "### Calculate overall survival rate"
   ]
  },
  {
   "cell_type": "code",
   "execution_count": 16,
   "id": "db055dbd",
   "metadata": {},
   "outputs": [
    {
     "data": {
      "text/plain": [
       "0.4044943820224719"
      ]
     },
     "execution_count": 16,
     "metadata": {},
     "output_type": "execute_result"
    }
   ],
   "source": [
    "#The 40% of passenger survived.\n",
    "survival_rate = df_chy1['Survived'].mean()\n",
    "survival_rate"
   ]
  },
  {
   "cell_type": "markdown",
   "id": "4db596c8",
   "metadata": {},
   "source": [
    "**Survival rate association with the passenger gender.**"
   ]
  },
  {
   "cell_type": "code",
   "execution_count": 17,
   "id": "675e7c14",
   "metadata": {},
   "outputs": [
    {
     "data": {
      "text/plain": [
       "Sex\n",
       "female    0.752896\n",
       "male      0.205298\n",
       "Name: Survived, dtype: float64"
      ]
     },
     "execution_count": 17,
     "metadata": {},
     "output_type": "execute_result"
    }
   ],
   "source": [
    "#75% of the total of the female (261) and 20% of the total of male (453) survived to the Titanic tragedy.\n",
    "gender_s = df_chy1.groupby('Sex')['Survived'].mean()\n",
    "gender_s"
   ]
  },
  {
   "cell_type": "markdown",
   "id": "83962d69",
   "metadata": {},
   "source": [
    "**Survival rate association with the passenger age.**"
   ]
  },
  {
   "cell_type": "code",
   "execution_count": 18,
   "id": "3c7f8f93",
   "metadata": {},
   "outputs": [
    {
     "data": {
      "text/plain": [
       "Age\n",
       "(0.0, 20.0]     0.458101\n",
       "(20.0, 40.0]    0.395833\n",
       "(40.0, 60.0]    0.390625\n",
       "(60.0, 80.0]    0.190476\n",
       "(80.0, inf]          NaN\n",
       "Name: Survived, dtype: float64"
      ]
     },
     "execution_count": 18,
     "metadata": {},
     "output_type": "execute_result"
    }
   ],
   "source": [
    "#age_s = df.groupby(['Sex', pd.cut(df['Age'], bins=[0, 20, 40, 60, 80, np.inf])])['Survived'].mean()\n",
    "age_s = df_chy1.groupby([pd.cut(df_chy1['Age'], bins=[0, 20, 40, 60, 80, np.inf])])['Survived'].mean()\n",
    "age_s"
   ]
  },
  {
   "cell_type": "markdown",
   "id": "4b0a900d",
   "metadata": {},
   "source": [
    "**Survival rate association with the passenger class.**"
   ]
  },
  {
   "cell_type": "code",
   "execution_count": 19,
   "id": "8edd54d4",
   "metadata": {},
   "outputs": [
    {
     "data": {
      "text/plain": [
       "Pclass\n",
       "1    0.652174\n",
       "2    0.479769\n",
       "3    0.239437\n",
       "Name: Survived, dtype: float64"
      ]
     },
     "execution_count": 19,
     "metadata": {},
     "output_type": "execute_result"
    }
   ],
   "source": [
    "class_s = df_chy1.groupby('Pclass')['Survived'].mean()\n",
    "class_s"
   ]
  },
  {
   "cell_type": "markdown",
   "id": "3e8d98ce",
   "metadata": {},
   "source": [
    "**Survival rate association with the passenger fare.**"
   ]
  },
  {
   "cell_type": "code",
   "execution_count": 21,
   "id": "ebba1c10",
   "metadata": {},
   "outputs": [
    {
     "data": {
      "text/plain": [
       "Fare\n",
       "(0.0, 20.0]     0.291667\n",
       "(20.0, 35.0]    0.437086\n",
       "(35.0, 50.0]    0.382353\n",
       "(50.0, 65.0]    0.675676\n",
       "(65.0, 80.0]    0.593750\n",
       "(80.0, inf]     0.776119\n",
       "Name: Survived, dtype: float64"
      ]
     },
     "execution_count": 21,
     "metadata": {},
     "output_type": "execute_result"
    }
   ],
   "source": [
    "fare_s = df_chy1.groupby([pd.cut(df_chy1['Fare'], bins=[0, 20, 35, 50, 65, 80, np.inf])])['Survived'].mean()\n",
    "fare_s"
   ]
  },
  {
   "cell_type": "markdown",
   "id": "9af239ea",
   "metadata": {},
   "source": [
    "**Survival rate association with the passenger port of embarked.**"
   ]
  },
  {
   "cell_type": "code",
   "execution_count": 23,
   "id": "aa1a326b",
   "metadata": {},
   "outputs": [
    {
     "data": {
      "text/plain": [
       "Embarked\n",
       "C    0.607692\n",
       "Q    0.285714\n",
       "S    0.362816\n",
       "Name: Survived, dtype: float64"
      ]
     },
     "execution_count": 23,
     "metadata": {},
     "output_type": "execute_result"
    }
   ],
   "source": [
    "p_emb = df_chy1.groupby('Embarked')['Survived'].mean()\n",
    "p_emb"
   ]
  },
  {
   "cell_type": "markdown",
   "id": "a80dc3f1",
   "metadata": {},
   "source": [
    "# 2 - Hypotheses Plots"
   ]
  },
  {
   "cell_type": "markdown",
   "id": "8f5bacdf",
   "metadata": {},
   "source": [
    "##### Survival rate association with the passenger gender."
   ]
  },
  {
   "cell_type": "code",
   "execution_count": 44,
   "id": "7a89e896",
   "metadata": {},
   "outputs": [
    {
     "data": {
      "text/plain": [
       "Text(0.5, 1.0, 'Survival rates by gender')"
      ]
     },
     "execution_count": 44,
     "metadata": {},
     "output_type": "execute_result"
    },
    {
     "data": {
      "image/png": "[encoded data removed]",
      "text/plain": [
       "<Figure size 640x480 with 1 Axes>"
      ]
     },
     "metadata": {},
     "output_type": "display_data"
    }
   ],
   "source": [
    "plt.bar(gender_s.index, gender_s.values, color=['blue', 'yellow'])\n",
    "#plt.axhline(y=survival_rate, color='r', linestyle='-')\n",
    "plt.xlabel('Gender')\n",
    "plt.ylabel('Survival Rate')\n",
    "plt.title('Survival rates by gender')"
   ]
  },
  {
   "cell_type": "markdown",
   "id": "f0d43976",
   "metadata": {},
   "source": [
    "##### Survival rate association with the passenger age."
   ]
  },
  {
   "cell_type": "code",
   "execution_count": 38,
   "id": "d1211a2a",
   "metadata": {},
   "outputs": [
    {
     "data": {
      "text/plain": [
       "Text(0.5, 1.0, 'Survival rates by age group')"
      ]
     },
     "execution_count": 38,
     "metadata": {},
     "output_type": "execute_result"
    },
    {
     "data": {
      "image/png": "[encoded data removed]",
      "text/plain": [
       "<Figure size 640x480 with 1 Axes>"
      ]
     },
     "metadata": {},
     "output_type": "display_data"
    }
   ],
   "source": [
    "plt.bar(age_s.index.astype(str), age_s.values, color=['yellow', 'blue', 'red', 'green'])\n",
    "#plt.axhline(y=survival_rate, color='r', linestyle='-')\n",
    "plt.xlabel('Age Group')\n",
    "plt.ylabel('Survival Rate')\n",
    "plt.title('Survival rates by age group')"
   ]
  },
  {
   "cell_type": "markdown",
   "id": "1046a5b9",
   "metadata": {},
   "source": [
    "##### Survival rate association with the passenger class."
   ]
  },
  {
   "cell_type": "code",
   "execution_count": 39,
   "id": "268ae82f",
   "metadata": {},
   "outputs": [
    {
     "data": {
      "text/plain": [
       "Text(0.5, 1.0, 'Survival Rates by Passenger Class')"
      ]
     },
     "execution_count": 39,
     "metadata": {},
     "output_type": "execute_result"
    },
    {
     "data": {
      "image/png": "[encoded data removed]",
      "text/plain": [
       "<Figure size 640x480 with 1 Axes>"
      ]
     },
     "metadata": {},
     "output_type": "display_data"
    }
   ],
   "source": [
    "plt.bar(class_s.index.map({1: '1', 2: '2', 3: '3'}), class_s.values, color=['yellow', 'blue', 'red'])\n",
    "#plt.axhline(y=survival_rate, color='r', linestyle='-')\n",
    "plt.xlabel('Passenger Class')\n",
    "plt.ylabel('Survival Rate')\n",
    "plt.title('Survival Rates by Passenger Class')"
   ]
  },
  {
   "cell_type": "markdown",
   "id": "8f89caad",
   "metadata": {},
   "source": [
    "##### Survival rate association with the passenger fare."
   ]
  },
  {
   "cell_type": "code",
   "execution_count": 40,
   "id": "98dcc00d",
   "metadata": {},
   "outputs": [
    {
     "data": {
      "text/plain": [
       "Text(0.5, 1.0, 'Survival rates by paid fare')"
      ]
     },
     "execution_count": 40,
     "metadata": {},
     "output_type": "execute_result"
    },
    {
     "data": {
      "image/png": "[encoded data removed]",
      "text/plain": [
       "<Figure size 640x480 with 1 Axes>"
      ]
     },
     "metadata": {},
     "output_type": "display_data"
    }
   ],
   "source": [
    "#plt.bar(fare_s.index.astype(str), fare_s.values, color=['yellow', 'blue', 'red', 'green', 'orange', 'purple'])\n",
    "plt.bar(['0-20', '20-35', '35-50', '50-65', '65-80', '>=80'], fare_s.values, color=['yellow', 'blue', 'red', 'green', 'orange', 'purple'])\n",
    "#plt.axhline(y=survival_rate, color='r', linestyle='-')\n",
    "plt.xlabel('Fare Group')\n",
    "plt.ylabel('Survival Rate')\n",
    "plt.title('Survival rates by paid fare')"
   ]
  },
  {
   "cell_type": "markdown",
   "id": "9ee15b27",
   "metadata": {},
   "source": [
    "##### Survival rate association with the passenger port of embarked."
   ]
  },
  {
   "cell_type": "code",
   "execution_count": 42,
   "id": "9180ee5b",
   "metadata": {},
   "outputs": [
    {
     "data": {
      "text/plain": [
       "Text(0.5, 1.0, 'Survival rates by port of embarked')"
      ]
     },
     "execution_count": 42,
     "metadata": {},
     "output_type": "execute_result"
    },
    {
     "data": {
      "image/png": "[encoded data removed]",
      "text/plain": [
       "<Figure size 640x480 with 1 Axes>"
      ]
     },
     "metadata": {},
     "output_type": "display_data"
    }
   ],
   "source": [
    "plt.bar(['Cherbourg', 'Queenstown', 'Southampton'], p_emb.values, color=['blue', 'yellow', 'green'])\n",
    "#plt.axhline(y=survival_rate, color='r', linestyle='-')\n",
    "plt.xlabel('Port of embarked')\n",
    "plt.ylabel('Survival Rate')\n",
    "plt.title('Survival rates by port of embarked')"
   ]
  }
 ],
 "metadata": {
  "kernelspec": {
   "display_name": "Python 3 (ipykernel)",
   "language": "python",
   "name": "python3"
  },
  "language_info": {
   "codemirror_mode": {
    "name": "ipython",
    "version": 3
   },
   "file_extension": ".py",
   "mimetype": "text/x-python",
   "name": "python",
   "nbconvert_exporter": "python",
   "pygments_lexer": "ipython3",
   "version": "3.9.13"
  }
 },
 "nbformat": 4,
 "nbformat_minor": 5
}
